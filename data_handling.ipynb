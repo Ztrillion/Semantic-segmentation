{
 "cells": [
  {
   "cell_type": "code",
   "execution_count": 23,
   "metadata": {},
   "outputs": [],
   "source": [
    "import os\n",
    "images_list = []\n",
    "labels_list = []\n",
    "for i in os.listdir('./data/camvid/images/train/'):\n",
    "      images_list.append('images/train/'+i)\n",
    "for il in os.listdir('./data/camvid/images/val/'):\n",
    "      images_list.append('images/val/'+il)\n",
    "            \n",
    "for j in os.listdir('./data/camvid/labels/train_labels/'):\n",
    "      labels_list.append('labels/train_labels/'+j)\n",
    "for jl in os.listdir('./data/camvid/labels/val_labels/'):\n",
    "      labels_list.append('labels/val_labels/'+jl)"
   ]
  },
  {
   "cell_type": "code",
   "execution_count": 24,
   "metadata": {},
   "outputs": [],
   "source": [
    "for k,v in enumerate(labels_list):\n",
    "      with open('./data/list/camvid/trainval.lst','a+') as f:\n",
    "            f.write(images_list[k] + ' ' + v + '\\n')"
   ]
  }
 ],
 "metadata": {
  "kernelspec": {
   "display_name": "prep",
   "language": "python",
   "name": "python3"
  },
  "language_info": {
   "codemirror_mode": {
    "name": "ipython",
    "version": 3
   },
   "file_extension": ".py",
   "mimetype": "text/x-python",
   "name": "python",
   "nbconvert_exporter": "python",
   "pygments_lexer": "ipython3",
   "version": "3.8.17"
  },
  "orig_nbformat": 4
 },
 "nbformat": 4,
 "nbformat_minor": 2
}
